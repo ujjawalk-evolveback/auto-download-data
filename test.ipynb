{
 "metadata": {
  "language_info": {
   "codemirror_mode": {
    "name": "ipython",
    "version": 3
   },
   "file_extension": ".py",
   "mimetype": "text/x-python",
   "name": "python",
   "nbconvert_exporter": "python",
   "pygments_lexer": "ipython3",
   "version": "3.8.5"
  },
  "orig_nbformat": 2,
  "kernelspec": {
   "name": "python385jvsc74a57bd004a20cc0f25f2654a5fc5715c026c4c293afbc25926c593c301cab56769943bf",
   "display_name": "Python 3.8.5 64-bit ('ml': conda)"
  }
 },
 "nbformat": 4,
 "nbformat_minor": 2,
 "cells": [
  {
   "cell_type": "code",
   "execution_count": 3,
   "metadata": {},
   "outputs": [],
   "source": [
    "import json"
   ]
  },
  {
   "cell_type": "code",
   "execution_count": 1,
   "metadata": {},
   "outputs": [],
   "source": [
    "def do():\n",
    "    print('done!')"
   ]
  },
  {
   "cell_type": "code",
   "execution_count": 4,
   "metadata": {},
   "outputs": [],
   "source": [
    "with open('months.json') as f:\n",
    "    months_dict = json.load(f)"
   ]
  },
  {
   "cell_type": "code",
   "execution_count": 5,
   "metadata": {},
   "outputs": [
    {
     "output_type": "execute_result",
     "data": {
      "text/plain": [
       "{'0': ['2021/04/15', '2021/04/30'],\n",
       " '1': ['2021/05/01', '2021/05/31'],\n",
       " '2': ['2021/06/01', '2021/06/30'],\n",
       " '3': ['2021/07/01', '2021/07/31'],\n",
       " '4': ['2021/08/01', '2021/08/31'],\n",
       " '5': ['2021/09/01', '2021/09/30'],\n",
       " '6': ['2021/10/01', '2021/10/31'],\n",
       " '7': ['2021/11/01', '2021/11/30'],\n",
       " '8': ['2021/12/01', '2021/12/31'],\n",
       " '9': ['2022/01/01', '2022/01/31'],\n",
       " '10': ['2022/02/01', '2022/02/28'],\n",
       " '11': ['2022/03/01', '2022/03/31']}"
      ]
     },
     "metadata": {},
     "execution_count": 5
    }
   ],
   "source": [
    "months_dict"
   ]
  },
  {
   "cell_type": "code",
   "execution_count": 8,
   "metadata": {},
   "outputs": [
    {
     "output_type": "stream",
     "name": "stdout",
     "text": [
      "0 2021/04/15 2021/04/30\n1 2021/05/01 2021/05/31\n2 2021/06/01 2021/06/30\n3 2021/07/01 2021/07/31\n4 2021/08/01 2021/08/31\n5 2021/09/01 2021/09/30\n6 2021/10/01 2021/10/31\n7 2021/11/01 2021/11/30\n8 2021/12/01 2021/12/31\n9 2022/01/01 2022/01/31\n10 2022/02/01 2022/02/28\n11 2022/03/01 2022/03/31\n"
     ]
    }
   ],
   "source": [
    "for k, v in months_dict.items():\n",
    "    print(int(k), v[0], v[1])"
   ]
  },
  {
   "cell_type": "code",
   "execution_count": 9,
   "metadata": {},
   "outputs": [
    {
     "output_type": "execute_result",
     "data": {
      "text/plain": [
       "dict_values([['2021/04/15', '2021/04/30'], ['2021/05/01', '2021/05/31'], ['2021/06/01', '2021/06/30'], ['2021/07/01', '2021/07/31'], ['2021/08/01', '2021/08/31'], ['2021/09/01', '2021/09/30'], ['2021/10/01', '2021/10/31'], ['2021/11/01', '2021/11/30'], ['2021/12/01', '2021/12/31'], ['2022/01/01', '2022/01/31'], ['2022/02/01', '2022/02/28'], ['2022/03/01', '2022/03/31']])"
      ]
     },
     "metadata": {},
     "execution_count": 9
    }
   ],
   "source": [
    "months_dict.values()"
   ]
  },
  {
   "cell_type": "code",
   "execution_count": null,
   "metadata": {},
   "outputs": [],
   "source": []
  }
 ]
}